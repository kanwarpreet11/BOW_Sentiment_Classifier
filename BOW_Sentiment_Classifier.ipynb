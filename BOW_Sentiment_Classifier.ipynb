{
 "cells": [
  {
   "cell_type": "markdown",
   "metadata": {},
   "source": [
    "## Sentiment Classification"
   ]
  },
  {
   "cell_type": "markdown",
   "metadata": {},
   "source": [
    "In this project, we train, validate (to fine tune) and test (final hold-out set) a simple [BOW](https://www.analyticsvidhya.com/blog/2020/02/quick-introduction-bag-of-words-bow-tf-idf/) text classifier on a review dataset."
   ]
  },
  {
   "cell_type": "code",
   "execution_count": 1,
   "metadata": {},
   "outputs": [],
   "source": [
    "#!pip install xgboost\n",
    "import pandas as pd\n",
    "import matplotlib.pyplot as plt\n",
    "from sklearn.model_selection import train_test_split\n",
    "from sklearn.feature_extraction.text import CountVectorizer\n",
    "from sklearn.pipeline import Pipeline\n",
    "from sklearn.metrics import classification_report\n",
    "from sklearn.metrics import f1_score\n",
    "from sklearn.metrics import accuracy_score\n",
    "from sklearn.metrics import confusion_matrix\n",
    "from sklearn.feature_extraction.text import TfidfTransformer\n",
    "#from sklearn.naive_bayes import MultinomialNB\n",
    "from sklearn.linear_model import SGDClassifier\n",
    "from sklearn.tree import DecisionTreeClassifier\n",
    "from xgboost import XGBClassifier\n",
    "from sklearn.ensemble import RandomForestClassifier\n",
    "import warnings\n",
    "warnings.filterwarnings(\"ignore\",category=UserWarning)"
   ]
  },
  {
   "cell_type": "markdown",
   "metadata": {},
   "source": [
    "The reviews were web scraped from [TrustPilot](https://www.trustpilot.com/). There will be a future project shared on how it can be done. Keep in mind to review and follow web scraping best practices and your own judgement while doing web scraping projects."
   ]
  },
  {
   "cell_type": "code",
   "execution_count": 2,
   "metadata": {},
   "outputs": [],
   "source": [
    "data = pd.read_csv('PupSocks.csv', delimiter=',', error_bad_lines=False)"
   ]
  },
  {
   "cell_type": "code",
   "execution_count": 3,
   "metadata": {},
   "outputs": [
    {
     "name": "stdout",
     "output_type": "stream",
     "text": [
      "6040\n"
     ]
    }
   ],
   "source": [
    "print(len(data))"
   ]
  },
  {
   "cell_type": "code",
   "execution_count": 4,
   "metadata": {},
   "outputs": [
    {
     "name": "stdout",
     "output_type": "stream",
     "text": [
      "Index(['Name', 'DatePublished', 'RatingValue', 'Review'], dtype='object')\n"
     ]
    }
   ],
   "source": [
    "print(data.columns)"
   ]
  },
  {
   "cell_type": "markdown",
   "metadata": {},
   "source": [
    "We perform train_test split twice to get 3 datasets - first gives split dataset which will be further split into model(60%) and validation(20%) datasets and other is final (unseen-20%) test dataset."
   ]
  },
  {
   "cell_type": "code",
   "execution_count": 5,
   "metadata": {},
   "outputs": [],
   "source": [
    "# Train Test Split Function\n",
    "\n",
    "def split_train_test(data, test_size, shuffle_state, train_file, test_file):\n",
    "    train, test= train_test_split(data, shuffle=shuffle_state, test_size=test_size, random_state=15)\n",
    "    #save the data\n",
    "    train.to_csv(train_file)\n",
    "    test.to_csv(test_file)\n",
    "\n",
    "# Call the train_test_split\n",
    "split_train_test(data,0.20,True,'split.csv','test.csv')\n",
    "\n",
    "# load the split data\n",
    "split_data = pd.read_csv('split.csv', error_bad_lines=False)\n",
    "# load the test data\n",
    "test_data = pd.read_csv('test.csv', error_bad_lines=False)"
   ]
  },
  {
   "cell_type": "code",
   "execution_count": 6,
   "metadata": {},
   "outputs": [
    {
     "name": "stdout",
     "output_type": "stream",
     "text": [
      "4832\n",
      "1208\n"
     ]
    }
   ],
   "source": [
    "print(len(split_data))\n",
    "print(len(test_data))"
   ]
  },
  {
   "cell_type": "code",
   "execution_count": 7,
   "metadata": {},
   "outputs": [],
   "source": [
    "# Call the train_test_split\n",
    "split_train_test(split_data, 0.25,True,'model.csv','valid.csv')\n",
    "\n",
    "#load the model data\n",
    "model_data = pd.read_csv('model.csv', error_bad_lines=False)\n",
    "# load the validation data\n",
    "valid_data = pd.read_csv('valid.csv', error_bad_lines=False)"
   ]
  },
  {
   "cell_type": "code",
   "execution_count": 8,
   "metadata": {},
   "outputs": [
    {
     "name": "stdout",
     "output_type": "stream",
     "text": [
      "3624\n",
      "1208\n"
     ]
    }
   ],
   "source": [
    "print(len(model_data))\n",
    "print(len(valid_data))"
   ]
  },
  {
   "cell_type": "markdown",
   "metadata": {},
   "source": [
    "Ratings are typically binned into negative (ratings 1 & 2), neutral (rating 3) and positive (ratings 4 & 5) as done here. Also, we can see that the data is imbalanced."
   ]
  },
  {
   "cell_type": "code",
   "execution_count": 9,
   "metadata": {},
   "outputs": [
    {
     "name": "stdout",
     "output_type": "stream",
     "text": [
      "Number of rows per star rating:\n",
      "1    1580\n",
      "5    1175\n",
      "2     355\n",
      "3     261\n",
      "4     253\n",
      "Name: RatingValue, dtype: int64\n"
     ]
    },
    {
     "data": {
      "image/png": "[encoded data removed]",
      "text/plain": [
       "<Figure size 432x288 with 1 Axes>"
      ]
     },
     "metadata": {
      "needs_background": "light"
     },
     "output_type": "display_data"
    }
   ],
   "source": [
    "print(\"Number of rows per star rating:\")\n",
    "print(model_data['RatingValue'].value_counts())\n",
    "\n",
    "# Function to map rating to sentiment\n",
    "def map_sentiment(rating_received):\n",
    "    if rating_received <= 2:\n",
    "        return \"negative\"\n",
    "    elif rating_received == 3:\n",
    "        return \"neutral\"\n",
    "    else:\n",
    "        return \"positive\"\n",
    "\n",
    "# Mapping rating to sentiment into three categories\n",
    "model_data['sentiment'] = [ map_sentiment(x) for x in model_data['RatingValue']]\n",
    "valid_data['sentiment'] = [ map_sentiment(x) for x in valid_data['RatingValue']]\n",
    "test_data['sentiment'] = [ map_sentiment(x) for x in test_data['RatingValue']]\n",
    "\n",
    "# Plotting the sentiment distribution for model_data\n",
    "plt.figure()\n",
    "pd.value_counts(model_data['sentiment']).plot.bar(title=\"Sentiment distribution in df\")\n",
    "plt.xlabel(\"Sentiment\")\n",
    "plt.ylabel(\"No. of rows in df\")\n",
    "plt.show()"
   ]
  },
  {
   "cell_type": "markdown",
   "metadata": {},
   "source": [
    "We balance the model data, this can be done in many ways. Most simple is to drop positive and negative reviews to match neutral review numbers but that will leave us with very few data points to train the model well. Here we create new neutral reviews by replacement to balance the data. We start with equal numbers for all 3 groups, say 1000 each, later based on results from validation dataset, we fine tune this number for each sentiment group. \n",
    "\n",
    "This balancing could be done before the splitting, but that would have either left us with very few observations (if we matched neutral) or introduced bias in validation and/or test datasets if we'd imputed neutral with replacement."
   ]
  },
  {
   "cell_type": "code",
   "execution_count": 24,
   "metadata": {},
   "outputs": [
    {
     "name": "stdout",
     "output_type": "stream",
     "text": [
      "1935 1428 261\n",
      "After segregating and taking equal (somewhat, as fine tuned afterwards) number of rows for each sentiment:\n",
      "neutral     1000\n",
      "negative     900\n",
      "positive     800\n",
      "Name: sentiment, dtype: int64\n",
      "Number of rows per star rating:\n",
      "3    1000\n",
      "1     737\n",
      "5     642\n",
      "2     163\n",
      "4     158\n",
      "Name: RatingValue, dtype: int64\n"
     ]
    },
    {
     "data": {
      "image/png": "[encoded data removed]",
      "text/plain": [
       "<Figure size 432x288 with 1 Axes>"
      ]
     },
     "metadata": {
      "needs_background": "light"
     },
     "output_type": "display_data"
    }
   ],
   "source": [
    "# Function to retrieve top few number of each category\n",
    "def get_sample_data():\n",
    "    data_positive = model_data[model_data['sentiment'] == \"positive\"].sample(800)\n",
    "    data_negative = model_data[model_data['sentiment'] == \"negative\"].sample(900)\n",
    "    data_neutral = model_data[model_data['sentiment'] == \"neutral\"].sample(1000, replace=True)\n",
    "    train_data = pd.concat([data_positive, data_negative, data_neutral])\n",
    "    return train_data\n",
    "\n",
    "p_count, nu_count, ne_count = model_data['sentiment'].value_counts()\n",
    "print(p_count, nu_count, ne_count)\n",
    "# Function call to get the random number of reviews from each sentiment\n",
    "train_data = get_sample_data()\n",
    "\n",
    "# After selecting samples of each sentiment\n",
    "print(\"After segregating and taking equal (somewhat, as fine tuned afterwards) number of rows for each sentiment:\")\n",
    "print(train_data['sentiment'].value_counts())\n",
    "\n",
    "# Plotting the sentiment distribution\n",
    "print(\"Number of rows per star rating:\")\n",
    "print(train_data['RatingValue'].value_counts())\n",
    "\n",
    "plt.figure()\n",
    "pd.value_counts(train_data['sentiment']).plot.bar(title=\"Sentiment distribution in df\")\n",
    "plt.xlabel(\"Sentiment\")\n",
    "plt.ylabel(\"No. of rows in df\")\n",
    "plt.show()"
   ]
  },
  {
   "cell_type": "markdown",
   "metadata": {},
   "source": [
    "We build a basic pipeline to vectorize, transform and classify the text data. We use CountVectorizer to convert reviews into a matrix of token counts (word frequency per document/review) and to build a vocabulary of words, basically a BOW. Then we transform the raw counts to [TF/IDF](https://en.wikipedia.org/wiki/Tf%E2%80%93idf) weighted values using TfidfTransformer. This helps provide weightage to words appearing in each document keeping in mind how often a word appears in all documents, hence indicating how important a word is to a particular document (in turn review-sentiment). In the end, we use a classifier. We can try a few different classifiers to see which performs best. Boosted trees (XGB) itself are known to be pretty good to extract feature importance. We can skip TF-IDF step to experiment what gives best results. In additiom (refer to [hyperparameter tuning](https://github.com/kanwarpreet11/MNIST_CNN) project), we can try to include and fine tune other parameters too, to see what gives best accuracy. \n",
    "\n",
    "This is a traditional ML approach to text classification. We can also explore deep learning - neural language models to implement the classification task to compare what works best (might upload a neural model project later)."
   ]
  },
  {
   "cell_type": "markdown",
   "metadata": {},
   "source": [
    "Only need to run one of the below 3 classifier before training the model (finally, XGB was used to train the model)-"
   ]
  },
  {
   "cell_type": "code",
   "execution_count": 25,
   "metadata": {},
   "outputs": [],
   "source": [
    "text_clf = Pipeline([\n",
    "    ('vect', CountVectorizer()),\n",
    "    ('tfidf', TfidfTransformer()),\n",
    "    ('clf', SGDClassifier(loss='hinge', penalty='l2',\n",
    "                          alpha=0.01, random_state=42,\n",
    "                          max_iter=5, tol=None)),\n",
    "])"
   ]
  },
  {
   "cell_type": "code",
   "execution_count": 37,
   "metadata": {},
   "outputs": [],
   "source": [
    "text_clf = Pipeline([\n",
    "    ('vect', CountVectorizer()),\n",
    "    ('tfidf', TfidfTransformer()),\n",
    "    ('clf', XGBClassifier(verbosity = 0)),\n",
    "])"
   ]
  },
  {
   "cell_type": "code",
   "execution_count": 33,
   "metadata": {},
   "outputs": [],
   "source": [
    "text_clf = Pipeline([\n",
    "    ('vect', CountVectorizer()),\n",
    "    ('tfidf', TfidfTransformer()),\n",
    "    ('clf', RandomForestClassifier()),\n",
    "])"
   ]
  },
  {
   "cell_type": "markdown",
   "metadata": {},
   "source": [
    "Train the model on training dataset"
   ]
  },
  {
   "cell_type": "code",
   "execution_count": 38,
   "metadata": {
    "scrolled": true
   },
   "outputs": [
    {
     "data": {
      "text/plain": [
       "Pipeline(steps=[('vect', CountVectorizer()), ('tfidf', TfidfTransformer()),\n",
       "                ('clf',\n",
       "                 XGBClassifier(base_score=0.5, booster='gbtree',\n",
       "                               colsample_bylevel=1, colsample_bynode=1,\n",
       "                               colsample_bytree=1, gamma=0, gpu_id=-1,\n",
       "                               importance_type='gain',\n",
       "                               interaction_constraints='',\n",
       "                               learning_rate=0.300000012, max_delta_step=0,\n",
       "                               max_depth=6, min_child_weight=1, missing=nan,\n",
       "                               monotone_constraints='()', n_estimators=100,\n",
       "                               n_jobs=8, num_parallel_tree=1,\n",
       "                               objective='multi:softprob', random_state=0,\n",
       "                               reg_alpha=0, reg_lambda=1, scale_pos_weight=None,\n",
       "                               subsample=1, tree_method='exact',\n",
       "                               validate_parameters=1, verbosity=0))])"
      ]
     },
     "execution_count": 38,
     "metadata": {},
     "output_type": "execute_result"
    }
   ],
   "source": [
    "### Train the model\n",
    "text_clf.fit(train_data.Review, train_data.sentiment)"
   ]
  },
  {
   "cell_type": "markdown",
   "metadata": {},
   "source": [
    "We evaluate the trained model on validation set and then choose best performing classifier, sample data values (while balancing) and any other parameters we want to experiment with."
   ]
  },
  {
   "cell_type": "code",
   "execution_count": 39,
   "metadata": {},
   "outputs": [],
   "source": [
    "#Evaluate the model on validation dataset\n",
    "predicted = text_clf.predict(valid_data.Review)"
   ]
  },
  {
   "cell_type": "code",
   "execution_count": 40,
   "metadata": {},
   "outputs": [
    {
     "name": "stdout",
     "output_type": "stream",
     "text": [
      "              precision    recall  f1-score   support\n",
      "\n",
      "    negative       0.90      0.88      0.89       652\n",
      "     neutral       0.40      0.43      0.41       108\n",
      "    positive       0.87      0.88      0.88       448\n",
      "\n",
      "    accuracy                           0.84      1208\n",
      "   macro avg       0.72      0.73      0.73      1208\n",
      "weighted avg       0.84      0.84      0.84      1208\n",
      "\n",
      "accuracy: 0.8394039735099338\n",
      "f1-score: [0.88613478 0.41071429 0.87902331]\n"
     ]
    }
   ],
   "source": [
    "print(classification_report(valid_data.sentiment, predicted))\n",
    "print(\"accuracy:\",accuracy_score(valid_data.sentiment, predicted))\n",
    "print(\"f1-score:\",f1_score(valid_data.sentiment, predicted, average=None))"
   ]
  },
  {
   "cell_type": "code",
   "execution_count": 41,
   "metadata": {},
   "outputs": [
    {
     "name": "stdout",
     "output_type": "stream",
     "text": [
      "\n",
      "Confusion_matrix:\n",
      " Predicted  negative  neutral  positive\n",
      "Actual                                \n",
      "negative        572       47        33\n",
      "neutral          38       46        24\n",
      "positive         29       23       396\n"
     ]
    }
   ],
   "source": [
    "confusion_matrix = pd.crosstab(valid_data.sentiment, predicted, rownames=['Actual'], colnames=['Predicted'])\n",
    "print(\"\\nConfusion_matrix:\\n\",confusion_matrix)"
   ]
  },
  {
   "cell_type": "markdown",
   "metadata": {},
   "source": [
    "**After doing all finetuning, we evaluate the final model on the unseen test dataset. Overall accuracy didn't drop (actually improved), so seems we have generalized the model well. Though, overall accuracy is decent, accuracy for neutral is not impressive which is typical as it's difficult for any classification model to segregate borderline cases, especially with less number of sample data from an imbalanced dataset.**"
   ]
  },
  {
   "cell_type": "code",
   "execution_count": 42,
   "metadata": {},
   "outputs": [],
   "source": [
    "#Evaluate the model on test_data\n",
    "predicted = text_clf.predict(test_data.Review)"
   ]
  },
  {
   "cell_type": "code",
   "execution_count": 43,
   "metadata": {},
   "outputs": [
    {
     "name": "stdout",
     "output_type": "stream",
     "text": [
      "              precision    recall  f1-score   support\n",
      "\n",
      "    negative       0.89      0.89      0.89       608\n",
      "     neutral       0.32      0.37      0.34       104\n",
      "    positive       0.91      0.89      0.90       496\n",
      "\n",
      "    accuracy                           0.84      1208\n",
      "   macro avg       0.71      0.71      0.71      1208\n",
      "weighted avg       0.85      0.84      0.85      1208\n",
      "\n",
      "accuracy: 0.8427152317880795\n",
      "f1-score: [0.8920033  0.34234234 0.8950051 ]\n"
     ]
    }
   ],
   "source": [
    "print(classification_report(test_data.sentiment, predicted))\n",
    "print(\"accuracy:\",accuracy_score(test_data.sentiment, predicted))\n",
    "print(\"f1-score:\",f1_score(test_data.sentiment, predicted, average=None))"
   ]
  },
  {
   "cell_type": "code",
   "execution_count": 44,
   "metadata": {},
   "outputs": [
    {
     "name": "stdout",
     "output_type": "stream",
     "text": [
      "\n",
      "Confusion_matrix:\n",
      " Predicted  negative  neutral  positive\n",
      "Actual                                \n",
      "negative        541       44        23\n",
      "neutral          43       38        23\n",
      "positive         21       36       439\n"
     ]
    }
   ],
   "source": [
    "confusion_matrix = pd.crosstab(test_data.sentiment, predicted, rownames=['Actual'], colnames=['Predicted'])\n",
    "print(\"\\nConfusion_matrix:\\n\",confusion_matrix)"
   ]
  }
 ],
 "metadata": {
  "kernelspec": {
   "display_name": "Python 3",
   "language": "python",
   "name": "python3"
  },
  "language_info": {
   "codemirror_mode": {
    "name": "ipython",
    "version": 3
   },
   "file_extension": ".py",
   "mimetype": "text/x-python",
   "name": "python",
   "nbconvert_exporter": "python",
   "pygments_lexer": "ipython3",
   "version": "3.7.6"
  }
 },
 "nbformat": 4,
 "nbformat_minor": 4
}
